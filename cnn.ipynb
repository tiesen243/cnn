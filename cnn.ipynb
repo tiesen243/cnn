{
 "cells": [
  {
   "cell_type": "markdown",
   "metadata": {},
   "source": [
    "# Convolutional Neural Network"
   ]
  },
  {
   "cell_type": "code",
   "execution_count": 373,
   "metadata": {},
   "outputs": [],
   "source": [
    "import torch\n",
    "import torchvision\n",
    "import matplotlib.pyplot as plt\n",
    "\n",
    "from tqdm import tqdm\n",
    "from torch import nn, optim\n",
    "from torchsummary import summary\n",
    "from torch.utils.data import DataLoader, random_split"
   ]
  },
  {
   "cell_type": "code",
   "execution_count": 374,
   "metadata": {},
   "outputs": [],
   "source": [
    "device = \"cuda\" if torch.cuda.is_available() else \"cpu\""
   ]
  },
  {
   "cell_type": "markdown",
   "metadata": {},
   "source": [
    "## Model"
   ]
  },
  {
   "cell_type": "code",
   "execution_count": 375,
   "metadata": {},
   "outputs": [],
   "source": [
    "class CNN(nn.Module):\n",
    "    def __init__(self, layers: list[nn.Module]):\n",
    "        super().__init__()\n",
    "        self.history = []\n",
    "        self.layers = nn.ModuleList(layers)\n",
    "\n",
    "    def forward(self, x: torch.Tensor):\n",
    "        for layer in self.layers:\n",
    "            x = layer(x)\n",
    "\n",
    "        return x\n",
    "    \n",
    "    def summary(self, input_shape, batch_size):\n",
    "        summary(self, input_shape, batch_size)\n",
    "\n",
    "    def config(self, loss: nn.Module, optimizer: optim.Optimizer):\n",
    "        if not isinstance(loss, nn.Module):\n",
    "            raise TypeError(\"loss must be a torch.nn.Module instance\")\n",
    "        if not isinstance(optimizer, optim.Optimizer):\n",
    "            raise TypeError(\"optimizer must be a torch.optim.Optimizer instance\")\n",
    "        \n",
    "        self.criterion = loss\n",
    "        self.optimizer = optimizer\n",
    "\n",
    "    def fit(self, train_loader: DataLoader, epochs: int = 10, verbose: bool = True):\n",
    "        for epoch in range(epochs):\n",
    "            self.train()\n",
    "\n",
    "            # Split the train set into train and validation set\n",
    "            train_set, val_set = random_split(train_loader.dataset, [50000, 10000])\n",
    "            train_set = DataLoader(train_set, batch_size=64, shuffle=True)\n",
    "            val_set = DataLoader(val_set, batch_size=64, shuffle=True)\n",
    "\n",
    "            loss_list = []\n",
    "\n",
    "            for images, labels in tqdm(train_set, desc=f\"Epoch {epoch+1}/{epochs}\"):\n",
    "                images, labels = images.to(device), labels.to(device)\n",
    "\n",
    "                self.optimizer.zero_grad()\n",
    "                \n",
    "                outputs = self(images)\n",
    "                loss = self.criterion(outputs, labels)\n",
    "                loss_list.append(loss.item())\n",
    "\n",
    "                loss.backward()\n",
    "                self.optimizer.step()\n",
    "\n",
    "            with torch.no_grad():\n",
    "                self.eval()\n",
    "\n",
    "                total = 0\n",
    "                accuracy = 0\n",
    "                val_loss = []\n",
    "\n",
    "                for images, labels in val_set:\n",
    "                    images, labels = images.to(device), labels.to(device)\n",
    "\n",
    "                    outputs = self(images)\n",
    "                    total += labels.size(0)\n",
    "                    predicted = torch.argmax(outputs, dim=1)\n",
    "\n",
    "                    accuracy += (predicted == labels).sum().item()\n",
    "                    val_loss.append(self.criterion(outputs, labels).item())\n",
    "\n",
    "                # Calculate the mean loss and accuracy\n",
    "                mean_val_loss = sum(val_loss) / len(val_loss)\n",
    "                mean_val_acc = 100 * (accuracy / total)\n",
    "                loss = sum(loss_list) / len(loss_list)\n",
    "                self.history.append((loss, mean_val_loss, mean_val_acc))\n",
    "\n",
    "                if verbose:\n",
    "                    print(\n",
    "                        f\"Loss: {loss:.4f}, Val Loss: {mean_val_loss:.4f}, Val Accuracy: {mean_val_acc:.2f}%\"\n",
    "                    )\n",
    "\n",
    "        return self.history\n",
    "\n",
    "    def predict(self, x):\n",
    "        predicted = []\n",
    "\n",
    "        with torch.no_grad():\n",
    "            self.eval()\n",
    "            for images, _ in x:\n",
    "                images = images.to(device)\n",
    "\n",
    "                outputs = self(images)\n",
    "                predicted.append(torch.argmax(outputs, 1))\n",
    "\n",
    "        return predicted"
   ]
  },
  {
   "cell_type": "markdown",
   "metadata": {},
   "source": [
    "## Cook"
   ]
  },
  {
   "cell_type": "markdown",
   "metadata": {},
   "source": [
    "### Data preprocessing"
   ]
  },
  {
   "cell_type": "code",
   "execution_count": 376,
   "metadata": {},
   "outputs": [],
   "source": [
    "preprocess = torchvision.transforms.Compose(\n",
    "    [\n",
    "        torchvision.transforms.ToTensor(),\n",
    "        torchvision.transforms.Normalize((0.5,), (0.5,)),\n",
    "    ]\n",
    ")"
   ]
  },
  {
   "cell_type": "code",
   "execution_count": 377,
   "metadata": {},
   "outputs": [],
   "source": [
    "train_set = torchvision.datasets.MNIST(\n",
    "    root=\"./data\", train=True, download=True, transform=preprocess\n",
    ")\n",
    "test_set = torchvision.datasets.MNIST(\n",
    "    root=\"./data\", train=False, download=True, transform=preprocess\n",
    ")\n",
    "\n",
    "train_loader = DataLoader(train_set, batch_size=64, shuffle=True)\n",
    "test_loader = DataLoader(test_set, batch_size=64, shuffle=False)"
   ]
  },
  {
   "cell_type": "markdown",
   "metadata": {},
   "source": [
    "### Training"
   ]
  },
  {
   "cell_type": "code",
   "execution_count": 378,
   "metadata": {},
   "outputs": [
    {
     "name": "stdout",
     "output_type": "stream",
     "text": [
      "----------------------------------------------------------------\n",
      "        Layer (type)               Output Shape         Param #\n",
      "================================================================\n",
      "            Conv2d-1           [64, 32, 28, 28]             320\n",
      "              ReLU-2           [64, 32, 28, 28]               0\n",
      "            Conv2d-3           [64, 64, 28, 28]          18,496\n",
      "              ReLU-4           [64, 64, 28, 28]               0\n",
      "         MaxPool2d-5           [64, 64, 14, 14]               0\n",
      "           Flatten-6                [64, 12544]               0\n",
      "            Linear-7                  [64, 128]       1,605,760\n",
      "              ReLU-8                  [64, 128]               0\n",
      "            Linear-9                   [64, 10]           1,290\n",
      "          Softmax-10                   [64, 10]               0\n",
      "================================================================\n",
      "Total params: 1,625,866\n",
      "Trainable params: 1,625,866\n",
      "Non-trainable params: 0\n",
      "----------------------------------------------------------------\n",
      "Input size (MB): 0.19\n",
      "Forward/backward pass size (MB): 85.88\n",
      "Params size (MB): 6.20\n",
      "Estimated Total Size (MB): 92.28\n",
      "----------------------------------------------------------------\n"
     ]
    }
   ],
   "source": [
    "model = CNN(\n",
    "    [\n",
    "        nn.Conv2d(1, 32, kernel_size=3, stride=1, padding=1),\n",
    "        nn.ReLU(),\n",
    "        nn.Conv2d(32, 64, kernel_size=3, stride=1, padding=1),\n",
    "        nn.ReLU(),\n",
    "        nn.MaxPool2d(kernel_size=2, stride=2, padding=0),\n",
    "        nn.Flatten(),\n",
    "        nn.Linear(64 * 14 * 14, 128),\n",
    "        nn.ReLU(),\n",
    "        nn.Linear(128, 10),\n",
    "        nn.Softmax(dim=1),\n",
    "    ]\n",
    ").to(device)\n",
    "\n",
    "model.summary(train_loader.dataset[0][0].shape, 64)"
   ]
  },
  {
   "cell_type": "code",
   "execution_count": 379,
   "metadata": {},
   "outputs": [],
   "source": [
    "model.config(nn.CrossEntropyLoss(), optim.Adam(model.parameters(), lr=0.001))"
   ]
  },
  {
   "cell_type": "code",
   "execution_count": 380,
   "metadata": {},
   "outputs": [
    {
     "name": "stderr",
     "output_type": "stream",
     "text": [
      "Epoch 1/10: 100%|██████████| 782/782 [00:05<00:00, 143.15it/s]\n"
     ]
    },
    {
     "name": "stdout",
     "output_type": "stream",
     "text": [
      "Loss: 1.6267, Val Loss: 1.5804, Val Accuracy: 88.09%\n"
     ]
    },
    {
     "name": "stderr",
     "output_type": "stream",
     "text": [
      "Epoch 2/10: 100%|██████████| 782/782 [00:05<00:00, 142.97it/s]\n"
     ]
    },
    {
     "name": "stdout",
     "output_type": "stream",
     "text": [
      "Loss: 1.5799, Val Loss: 1.5790, Val Accuracy: 88.18%\n"
     ]
    },
    {
     "name": "stderr",
     "output_type": "stream",
     "text": [
      "Epoch 3/10: 100%|██████████| 782/782 [00:05<00:00, 141.16it/s]\n"
     ]
    },
    {
     "name": "stdout",
     "output_type": "stream",
     "text": [
      "Loss: 1.5031, Val Loss: 1.4791, Val Accuracy: 98.21%\n"
     ]
    },
    {
     "name": "stderr",
     "output_type": "stream",
     "text": [
      "Epoch 4/10: 100%|██████████| 782/782 [00:05<00:00, 141.47it/s]\n"
     ]
    },
    {
     "name": "stdout",
     "output_type": "stream",
     "text": [
      "Loss: 1.4769, Val Loss: 1.4814, Val Accuracy: 98.03%\n"
     ]
    },
    {
     "name": "stderr",
     "output_type": "stream",
     "text": [
      "Epoch 5/10: 100%|██████████| 782/782 [00:05<00:00, 138.34it/s]\n"
     ]
    },
    {
     "name": "stdout",
     "output_type": "stream",
     "text": [
      "Loss: 1.4756, Val Loss: 1.4740, Val Accuracy: 98.71%\n"
     ]
    },
    {
     "name": "stderr",
     "output_type": "stream",
     "text": [
      "Epoch 6/10: 100%|██████████| 782/782 [00:05<00:00, 132.02it/s]\n"
     ]
    },
    {
     "name": "stdout",
     "output_type": "stream",
     "text": [
      "Loss: 1.4732, Val Loss: 1.4732, Val Accuracy: 98.82%\n"
     ]
    },
    {
     "name": "stderr",
     "output_type": "stream",
     "text": [
      "Epoch 7/10: 100%|██████████| 782/782 [00:05<00:00, 141.56it/s]\n"
     ]
    },
    {
     "name": "stdout",
     "output_type": "stream",
     "text": [
      "Loss: 1.4734, Val Loss: 1.4753, Val Accuracy: 98.61%\n"
     ]
    },
    {
     "name": "stderr",
     "output_type": "stream",
     "text": [
      "Epoch 8/10: 100%|██████████| 782/782 [00:05<00:00, 138.65it/s]\n"
     ]
    },
    {
     "name": "stdout",
     "output_type": "stream",
     "text": [
      "Loss: 1.4723, Val Loss: 1.4718, Val Accuracy: 98.93%\n"
     ]
    },
    {
     "name": "stderr",
     "output_type": "stream",
     "text": [
      "Epoch 9/10: 100%|██████████| 782/782 [00:05<00:00, 142.62it/s]\n"
     ]
    },
    {
     "name": "stdout",
     "output_type": "stream",
     "text": [
      "Loss: 1.4714, Val Loss: 1.4699, Val Accuracy: 99.10%\n"
     ]
    },
    {
     "name": "stderr",
     "output_type": "stream",
     "text": [
      "Epoch 10/10: 100%|██████████| 782/782 [00:05<00:00, 147.85it/s]\n"
     ]
    },
    {
     "name": "stdout",
     "output_type": "stream",
     "text": [
      "Loss: 1.4715, Val Loss: 1.4710, Val Accuracy: 99.01%\n"
     ]
    }
   ],
   "source": [
    "history = model.fit(train_loader, epochs=10)"
   ]
  },
  {
   "cell_type": "code",
   "execution_count": 381,
   "metadata": {},
   "outputs": [
    {
     "data": {
      "image/png": "[encoded data removed]",
      "text/plain": [
       "<Figure size 1000x500 with 2 Axes>"
      ]
     },
     "metadata": {},
     "output_type": "display_data"
    }
   ],
   "source": [
    "plt.figure(figsize=(10, 5))\n",
    "plt.subplot(1, 2, 1)\n",
    "plt.plot([x[0] for x in history], label=\"Train Loss\")\n",
    "plt.plot([x[1] for x in history], label=\"Val Loss\")\n",
    "plt.xlabel(\"Epoch\")\n",
    "plt.legend()\n",
    "plt.subplot(1, 2, 2)\n",
    "plt.plot([x[2] for x in history], label=\"Val Accuracy\")\n",
    "plt.xlabel(\"Epoch\")\n",
    "plt.legend()\n",
    "plt.show()"
   ]
  },
  {
   "cell_type": "markdown",
   "metadata": {},
   "source": [
    "### Test model"
   ]
  },
  {
   "cell_type": "code",
   "execution_count": 382,
   "metadata": {},
   "outputs": [],
   "source": [
    "x = [images for images, _ in test_loader]\n",
    "y_true = [labels for _, labels in test_loader]\n",
    "y_pred = model.predict(test_loader)"
   ]
  },
  {
   "cell_type": "code",
   "execution_count": 383,
   "metadata": {},
   "outputs": [
    {
     "data": {
      "image/png": "[encoded data removed]",
      "text/plain": [
       "<Figure size 1500x600 with 10 Axes>"
      ]
     },
     "metadata": {},
     "output_type": "display_data"
    }
   ],
   "source": [
    "_, axs = plt.subplots(2, 5, figsize=(15, 6))\n",
    "\n",
    "for i in range(10):\n",
    "    random_idx = torch.randint(0, 64, (1, 2)).squeeze()\n",
    "    axs[i // 5, i % 5].imshow(x[random_idx[0]][random_idx[1]].squeeze(), cmap=\"gray\")\n",
    "    axs[i // 5, i % 5].set_title(\n",
    "        f\"True: {y_true[random_idx[0]][random_idx[1]]}, Pred: {y_pred[random_idx[0]][random_idx[1]]}\"\n",
    "    )\n",
    "    axs[i // 5, i % 5].axis(\"off\")\n",
    "\n",
    "plt.show()"
   ]
  }
 ],
 "metadata": {
  "kernelspec": {
   "display_name": "ml",
   "language": "python",
   "name": "python3"
  },
  "language_info": {
   "codemirror_mode": {
    "name": "ipython",
    "version": 3
   },
   "file_extension": ".py",
   "mimetype": "text/x-python",
   "name": "python",
   "nbconvert_exporter": "python",
   "pygments_lexer": "ipython3",
   "version": "3.12.7"
  }
 },
 "nbformat": 4,
 "nbformat_minor": 2
}
